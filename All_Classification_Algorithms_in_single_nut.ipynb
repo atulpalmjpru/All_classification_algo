{
  "nbformat": 4,
  "nbformat_minor": 0,
  "metadata": {
    "colab": {
      "provenance": []
    },
    "kernelspec": {
      "name": "python3",
      "display_name": "Python 3"
    },
    "language_info": {
      "name": "python"
    }
  },
  "cells": [
    {
      "cell_type": "markdown",
      "source": [
        "## Classification Problem : Mushrooms data set from Kaggle with all the classification Regression"
      ],
      "metadata": {
        "id": "dE9mqD8_A4Jq"
      }
    },
    {
      "cell_type": "code",
      "execution_count": null,
      "metadata": {
        "id": "Om15cTkD4Bbu"
      },
      "outputs": [],
      "source": [
        "import pandas as pd\n",
        "import numpy as np\n",
        "import matplotlib.pyplot as plt\n"
      ]
    },
    {
      "cell_type": "code",
      "source": [
        "data=pd.read_csv(\"mushrooms.csv\")"
      ],
      "metadata": {
        "id": "B7Fz9Ln84UWC"
      },
      "execution_count": null,
      "outputs": []
    },
    {
      "cell_type": "code",
      "source": [
        "data.info()"
      ],
      "metadata": {
        "id": "E_JOgnlb4EkH"
      },
      "execution_count": null,
      "outputs": []
    },
    {
      "cell_type": "code",
      "source": [
        "data['class'].unique()\n",
        "data['cap-shape'].unique()"
      ],
      "metadata": {
        "id": "wn7gHk5x4bSp"
      },
      "execution_count": null,
      "outputs": []
    },
    {
      "cell_type": "code",
      "source": [
        "data.head()"
      ],
      "metadata": {
        "id": "vxhBp42a4idT"
      },
      "execution_count": null,
      "outputs": []
    },
    {
      "cell_type": "code",
      "source": [
        "X=data.drop(columns=['class'])\n",
        "X"
      ],
      "metadata": {
        "id": "8I8fWJCA5UGL"
      },
      "execution_count": null,
      "outputs": []
    },
    {
      "cell_type": "code",
      "source": [
        "data"
      ],
      "metadata": {
        "id": "EC9f4zOo5XUc"
      },
      "execution_count": null,
      "outputs": []
    },
    {
      "cell_type": "code",
      "source": [
        "##LabelEncoding all the colums\n",
        "from sklearn.preprocessing import LabelEncoder\n",
        "le=LabelEncoder()\n",
        "for col in data.columns:\n",
        "  if data[col].dtype=='object':\n",
        "    data[col]=le.fit_transform(data[col])\n"
      ],
      "metadata": {
        "id": "oKM7N-RK59RJ"
      },
      "execution_count": null,
      "outputs": []
    },
    {
      "cell_type": "code",
      "source": [
        "data"
      ],
      "metadata": {
        "id": "nQJtceqQ6J4a"
      },
      "execution_count": null,
      "outputs": []
    },
    {
      "cell_type": "code",
      "source": [
        "data.info()"
      ],
      "metadata": {
        "id": "SDsCt8Qu7evU"
      },
      "execution_count": null,
      "outputs": []
    },
    {
      "cell_type": "code",
      "source": [
        "#Breaking the data in dependent and indepedent variable\n",
        "X=data.drop(columns=['class'])\n",
        "y=data['class']"
      ],
      "metadata": {
        "id": "unIcvueX7tHj"
      },
      "execution_count": null,
      "outputs": []
    },
    {
      "cell_type": "code",
      "source": [
        "#Splitting the data for training and testing\n",
        "from sklearn.model_selection import train_test_split\n",
        "X_train,X_test,y_train,y_test=train_test_split(X,y,test_size=0.2,random_state=42)\n",
        "from sklearn.metrics import accuracy_score,confusion_matrix"
      ],
      "metadata": {
        "id": "tm6lOfle8WvU"
      },
      "execution_count": null,
      "outputs": []
    },
    {
      "cell_type": "code",
      "source": [
        "## from Xgboost Classification\n",
        "from xgboost import XGBClassifier\n",
        "model=XGBClassifier()\n",
        "model.fit(X_train,y_train)\n",
        "predictions=model.predict(X_test)\n",
        "print(accuracy_score(predictions,y_test))"
      ],
      "metadata": {
        "id": "Mt5tMscy8qXc"
      },
      "execution_count": null,
      "outputs": []
    },
    {
      "cell_type": "code",
      "source": [
        "##from LogisticRegression Classification\n",
        "from sklearn.linear_model import LogisticRegression\n",
        "model=LogisticRegression()\n",
        "model.fit(X_train,y_train)\n",
        "predictions=model.predict(X_test)\n",
        "print(accuracy_score(predictions,y_test))"
      ],
      "metadata": {
        "id": "pTgn0Y7A9ErK"
      },
      "execution_count": null,
      "outputs": []
    },
    {
      "cell_type": "code",
      "source": [
        "#By Using support Vector Machine\n",
        "from sklearn.svm import SVC\n",
        "model=SVC()\n",
        "model.fit(X_train,y_train)\n",
        "predictions=model.predict(X_test)\n",
        "print(accuracy_score(predictions,y_test))"
      ],
      "metadata": {
        "id": "GOzFbPwM9XVS"
      },
      "execution_count": null,
      "outputs": []
    },
    {
      "cell_type": "code",
      "source": [
        "# By  Using DecisionTree Classfication\n",
        "from sklearn.tree import DecisionTreeClassifier\n",
        "model=DecisionTreeClassifier()\n",
        "model.fit(X_train,y_train)\n",
        "predictions=model.predict(X_test)\n",
        "print(accuracy_score(predictions,y_test))\n"
      ],
      "metadata": {
        "id": "cBWqnqn5-LL3"
      },
      "execution_count": null,
      "outputs": []
    },
    {
      "cell_type": "code",
      "source": [
        "# By using naive_bayes Classification\n",
        "from sklearn.naive_bayes import GaussianNB\n",
        "model=GaussianNB()\n",
        "model.fit(X_train,y_train)\n",
        "predictions=model.predict(X_test)\n",
        "print(accuracy_score(predictions,y_test))"
      ],
      "metadata": {
        "id": "6hI2Nx8W-nNq"
      },
      "execution_count": null,
      "outputs": []
    },
    {
      "cell_type": "code",
      "source": [
        "# By Using RandomForest Classification\n",
        "from sklearn.ensemble import RandomForestClassifier\n",
        "model=RandomForestClassifier()\n",
        "model.fit(X_train,y_train)\n",
        "predictions=model.predict(X_test)\n",
        "print(accuracy_score(predictions,y_test))"
      ],
      "metadata": {
        "id": "UTHsNAY7_D2X"
      },
      "execution_count": null,
      "outputs": []
    },
    {
      "cell_type": "code",
      "source": [
        "# by using KNeighborsClassifier\n",
        "from sklearn.neighbors import KNeighborsClassifier\n",
        "model=KNeighborsClassifier()\n",
        "model.fit(X_train,y_train)\n",
        "predictions=model.predict(X_test)\n",
        "print(accuracy_score(predictions,y_test))"
      ],
      "metadata": {
        "id": "xX6Ewt1y_cVu"
      },
      "execution_count": null,
      "outputs": []
    },
    {
      "cell_type": "markdown",
      "source": [
        "# That is all about the classification Problem -----Thanks:------"
      ],
      "metadata": {
        "id": "tUuQxIQ_Ciw_"
      }
    },
    {
      "cell_type": "markdown",
      "source": [],
      "metadata": {
        "id": "zUrneF1SAgAe"
      }
    },
    {
      "cell_type": "code",
      "source": [],
      "metadata": {
        "id": "5Oq1gm1uAoUH"
      },
      "execution_count": null,
      "outputs": []
    }
  ]
}